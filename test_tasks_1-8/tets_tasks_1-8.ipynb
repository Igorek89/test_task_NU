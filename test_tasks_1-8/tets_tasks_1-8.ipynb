{
  "cells": [
    {
      "cell_type": "code",
      "execution_count": null,
      "metadata": {},
      "outputs": [],
      "source": [
        "# Создание тестового файла с фековыми имайлами\n",
        "from faker import Faker\n",
        "\n",
        "fake = Faker()\n",
        "\n",
        "with open('test_email.txt', 'w') as f:\n",
        "    for _ in range(10000):\n",
        "        firs_name = fake.first_name()\n",
        "        last_name = fake.last_name()\n",
        "        email = f'{firs_name}.{last_name}@{fake.domain_name()}'\n",
        "        f.write(email+'\\n')"
      ]
    },
    {
      "cell_type": "markdown",
      "metadata": {},
      "source": [
        "1. Создайте строку из нечетных чисел от 1 до 100 следующего вида: 13579111315…"
      ]
    },
    {
      "cell_type": "code",
      "execution_count": null,
      "metadata": {
        "colab": {
          "base_uri": "https://localhost:8080/"
        },
        "id": "Dk1Pox0RIq-y",
        "outputId": "241b8060-dc84-4728-bbed-fd1618d2db93"
      },
      "outputs": [
        {
          "name": "stdout",
          "output_type": "stream",
          "text": [
            "13579111315171921232527293133353739414345474951535557596163656769717375777981838587899193959799\n"
          ]
        }
      ],
      "source": [
        "string = ''\n",
        "for i in range(1, 101):\n",
        "  if i % 2 != 0:\n",
        "    string += str(i)\n",
        "print(string)"
      ]
    },
    {
      "cell_type": "markdown",
      "metadata": {
        "id": "HhPqzBsGKOEh"
      },
      "source": [
        "2. Какой будет результат выполнения следующего кода? Почему?\n",
        "\n",
        "```\n",
        "b = 10\n",
        "def f(a):\n",
        "    print(a)\n",
        "    print(b)\n",
        "    b = 15\n",
        "\n",
        "f(3)\n",
        "```"
      ]
    },
    {
      "cell_type": "markdown",
      "metadata": {
        "id": "Y6hdz4UFLubQ"
      },
      "source": [
        "Получим ошибку так как тут играет роль область видимиости функции. Поиск переменных в функции осущетсвляется сначала в локальной области функции потом в глобальной, в нашем случае такая переменная есть в локальной области и она объявлена после вывода этой переменной. Решить проблему можно несколькими способами\n",
        " - 1 обределить в функции чтобы она сразу искала переменную в глобальной области с помощью строчки кода ```global b```\n",
        " - 2 поместить вызов переменной (строчки ```print(b)```) после объявления переменной (строчки ```b = 15```)"
      ]
    },
    {
      "cell_type": "code",
      "execution_count": null,
      "metadata": {
        "colab": {
          "base_uri": "https://localhost:8080/",
          "height": 349
        },
        "id": "5ILJCbbpKpQe",
        "outputId": "445aaf4f-14c8-4d22-80cf-afa38735747e"
      },
      "outputs": [
        {
          "name": "stdout",
          "output_type": "stream",
          "text": [
            "3\n"
          ]
        },
        {
          "ename": "UnboundLocalError",
          "evalue": "ignored",
          "output_type": "error",
          "traceback": [
            "\u001b[0;31m---------------------------------------------------------------------------\u001b[0m",
            "\u001b[0;31mUnboundLocalError\u001b[0m                         Traceback (most recent call last)",
            "\u001b[0;32m<ipython-input-11-bd22e52b422b>\u001b[0m in \u001b[0;36m<cell line: 7>\u001b[0;34m()\u001b[0m\n\u001b[1;32m      5\u001b[0m   \u001b[0mprint\u001b[0m\u001b[0;34m(\u001b[0m\u001b[0mb\u001b[0m\u001b[0;34m)\u001b[0m\u001b[0;34m\u001b[0m\u001b[0;34m\u001b[0m\u001b[0m\n\u001b[1;32m      6\u001b[0m   \u001b[0mb\u001b[0m \u001b[0;34m=\u001b[0m \u001b[0;36m15\u001b[0m\u001b[0;34m\u001b[0m\u001b[0;34m\u001b[0m\u001b[0m\n\u001b[0;32m----> 7\u001b[0;31m \u001b[0mf\u001b[0m\u001b[0;34m(\u001b[0m\u001b[0;36m3\u001b[0m\u001b[0;34m)\u001b[0m\u001b[0;34m\u001b[0m\u001b[0;34m\u001b[0m\u001b[0m\n\u001b[0m",
            "\u001b[0;32m<ipython-input-11-bd22e52b422b>\u001b[0m in \u001b[0;36mf\u001b[0;34m(a)\u001b[0m\n\u001b[1;32m      3\u001b[0m \u001b[0;32mdef\u001b[0m \u001b[0mf\u001b[0m\u001b[0;34m(\u001b[0m\u001b[0ma\u001b[0m\u001b[0;34m)\u001b[0m\u001b[0;34m:\u001b[0m\u001b[0;34m\u001b[0m\u001b[0;34m\u001b[0m\u001b[0m\n\u001b[1;32m      4\u001b[0m   \u001b[0mprint\u001b[0m\u001b[0;34m(\u001b[0m\u001b[0ma\u001b[0m\u001b[0;34m)\u001b[0m\u001b[0;34m\u001b[0m\u001b[0;34m\u001b[0m\u001b[0m\n\u001b[0;32m----> 5\u001b[0;31m   \u001b[0mprint\u001b[0m\u001b[0;34m(\u001b[0m\u001b[0mb\u001b[0m\u001b[0;34m)\u001b[0m\u001b[0;34m\u001b[0m\u001b[0;34m\u001b[0m\u001b[0m\n\u001b[0m\u001b[1;32m      6\u001b[0m   \u001b[0mb\u001b[0m \u001b[0;34m=\u001b[0m \u001b[0;36m15\u001b[0m\u001b[0;34m\u001b[0m\u001b[0;34m\u001b[0m\u001b[0m\n\u001b[1;32m      7\u001b[0m \u001b[0mf\u001b[0m\u001b[0;34m(\u001b[0m\u001b[0;36m3\u001b[0m\u001b[0;34m)\u001b[0m\u001b[0;34m\u001b[0m\u001b[0;34m\u001b[0m\u001b[0m\n",
            "\u001b[0;31mUnboundLocalError\u001b[0m: local variable 'b' referenced before assignment"
          ]
        }
      ],
      "source": [
        "b = 10\n",
        "\n",
        "def f(a):\n",
        "  print(a)\n",
        "  print(b)\n",
        "  b = 15\n",
        "f(3)"
      ]
    },
    {
      "cell_type": "markdown",
      "metadata": {
        "id": "pArhUXcGOOHc"
      },
      "source": [
        "3. Что получится в результате двух вычислений? Почему?\n",
        "```\n",
        "t = (1, 2, [50, 60])\n",
        "t[2] += [10, 20]\n",
        "```"
      ]
    },
    {
      "cell_type": "markdown",
      "metadata": {
        "id": "6zOTEqFiOz5v"
      },
      "source": [
        "Получим ошибку так как кортетж это не изменяемый тип данных и после создания изменить его уже не получится"
      ]
    },
    {
      "cell_type": "code",
      "execution_count": null,
      "metadata": {
        "colab": {
          "base_uri": "https://localhost:8080/",
          "height": 210
        },
        "id": "i0xh9tJAOKTY",
        "outputId": "e53bc218-4953-404b-e4b7-f9ce11f97191"
      },
      "outputs": [
        {
          "ename": "TypeError",
          "evalue": "ignored",
          "output_type": "error",
          "traceback": [
            "\u001b[0;31m---------------------------------------------------------------------------\u001b[0m",
            "\u001b[0;31mTypeError\u001b[0m                                 Traceback (most recent call last)",
            "\u001b[0;32m<ipython-input-15-935007905bd1>\u001b[0m in \u001b[0;36m<cell line: 2>\u001b[0;34m()\u001b[0m\n\u001b[1;32m      1\u001b[0m \u001b[0mt\u001b[0m \u001b[0;34m=\u001b[0m \u001b[0;34m(\u001b[0m\u001b[0;36m1\u001b[0m\u001b[0;34m,\u001b[0m \u001b[0;36m2\u001b[0m\u001b[0;34m,\u001b[0m \u001b[0;34m[\u001b[0m\u001b[0;36m50\u001b[0m\u001b[0;34m,\u001b[0m \u001b[0;36m60\u001b[0m\u001b[0;34m]\u001b[0m\u001b[0;34m)\u001b[0m\u001b[0;34m\u001b[0m\u001b[0;34m\u001b[0m\u001b[0m\n\u001b[0;32m----> 2\u001b[0;31m \u001b[0mt\u001b[0m\u001b[0;34m[\u001b[0m\u001b[0;36m2\u001b[0m\u001b[0;34m]\u001b[0m \u001b[0;34m+=\u001b[0m \u001b[0;34m[\u001b[0m\u001b[0;36m10\u001b[0m\u001b[0;34m,\u001b[0m \u001b[0;36m20\u001b[0m\u001b[0;34m]\u001b[0m\u001b[0;34m\u001b[0m\u001b[0;34m\u001b[0m\u001b[0m\n\u001b[0m\u001b[1;32m      3\u001b[0m \u001b[0mprint\u001b[0m\u001b[0;34m(\u001b[0m\u001b[0mt\u001b[0m\u001b[0;34m[\u001b[0m\u001b[0;36m2\u001b[0m\u001b[0;34m]\u001b[0m\u001b[0;34m)\u001b[0m\u001b[0;34m\u001b[0m\u001b[0;34m\u001b[0m\u001b[0m\n",
            "\u001b[0;31mTypeError\u001b[0m: 'tuple' object does not support item assignment"
          ]
        }
      ],
      "source": [
        "t = (1, 2, [50, 60])\n",
        "t[2] += [10, 20]\n",
        "print(t[2])"
      ]
    },
    {
      "cell_type": "markdown",
      "metadata": {
        "id": "o2J-6wsWPN_X"
      },
      "source": [
        "4. Напишите функцию, которая принимает строку и возвращает ее перевернутую версию. Напишите функцию, которая проверяет, является ли строка палиндромом."
      ]
    },
    {
      "cell_type": "code",
      "execution_count": null,
      "metadata": {
        "colab": {
          "base_uri": "https://localhost:8080/"
        },
        "id": "68EoRQ7aOZYn",
        "outputId": "26144490-ddea-4a26-a212-5ac59322f275"
      },
      "outputs": [
        {
          "name": "stdout",
          "output_type": "stream",
          "text": [
            "оволс\n",
            "False\n",
            "True\n"
          ]
        }
      ],
      "source": [
        "def reverse_string(string: str) -> str:\n",
        "  return string[::-1]\n",
        "\n",
        "def palindrome(string: str) -> bool:\n",
        "    len_string = len(string)\n",
        "    for i in range(len_string // 2):\n",
        "      if string[i] != string[-i - 1]:\n",
        "        return False\n",
        "    return True\n",
        "\n",
        "print(reverse_string('слово'))\n",
        "print(palindrome('слово'))\n",
        "print(palindrome('казак'))\n"
      ]
    },
    {
      "cell_type": "markdown",
      "metadata": {
        "id": "WPbRu7y9TGYI"
      },
      "source": [
        "5. Создайте текстовый файл с несколькими строками текста. Напишите функцию, которая читает файл и выводит количество слов в каждой строке.\n"
      ]
    },
    {
      "cell_type": "code",
      "execution_count": null,
      "metadata": {
        "colab": {
          "base_uri": "https://localhost:8080/"
        },
        "id": "zvyI6op1QJ9f",
        "outputId": "bd50fd7e-2094-4891-e25c-419ba7ae1336"
      },
      "outputs": [
        {
          "data": {
            "text/plain": [
              "0"
            ]
          },
          "execution_count": 18,
          "metadata": {},
          "output_type": "execute_result"
        }
      ],
      "source": [
        "def count_words(path_to_file: str):\n",
        "  with open(path_to_file, 'r') as f:\n",
        "    string = f.readline\n",
        "    number_string = 0\n",
        "    while string:\n",
        "      list_sting = string.split()\n",
        "      len_string = len(list_sting)\n",
        "      print(f'строка {number_string}: {len_string} слов')\n",
        "      string = f.readline()\n",
        "      number_string += 1"
      ]
    },
    {
      "cell_type": "markdown",
      "metadata": {
        "id": "QYPoYHVDamy0"
      },
      "source": [
        "6. Напишите генератор, используя регулярное выражение, для поиска всех email-адресов в текстовом файле Напишите программу, которая использует, написанный генератор для копирования в другой файл."
      ]
    },
    {
      "cell_type": "code",
      "execution_count": 7,
      "metadata": {
        "id": "1HocIUnWSF4v"
      },
      "outputs": [],
      "source": [
        "from typing import Generator\n",
        "import re\n",
        "\n",
        "\n",
        "def validate_email(path_to_file: str) -> Generator[str, None, None]:\n",
        "    pattern = r'\\S+@\\S+'\n",
        "    with open(path_to_file, 'r') as f:\n",
        "        text = f.readlines()\n",
        "        for row in text:\n",
        "            list_emails = re.findall(pattern, row)\n",
        "            for email in list_emails:\n",
        "                yield email\n",
        "\n",
        "\n",
        "def create_email_file(new_file: str, raw_file: str):\n",
        "    gen_email = validate_email(raw_file)\n",
        "    with open(new_file, 'w') as f:\n",
        "        for email in gen_email:\n",
        "            f.write(email)\n",
        "            f.write('\\n')\n"
      ]
    },
    {
      "cell_type": "markdown",
      "metadata": {
        "id": "fRDO4QcYuCyB"
      },
      "source": [
        "7. Наполните текстовый файл рандомными значениями (побольше), можете использовать сторонние библиотеки (faker). Напишите декоратор timeit который принимает значение N для измерения времени работы функции и примените к прошлому заданию. Если время превышает заданное N выводить дополнительное уведомление."
      ]
    },
    {
      "cell_type": "code",
      "execution_count": 11,
      "metadata": {
        "id": "Mk_TBEjruF1h"
      },
      "outputs": [],
      "source": [
        "from functools import wraps\n",
        "import time\n",
        "\n",
        "\n",
        "def timit(N: float):\n",
        "    def wrapper(func):\n",
        "        @wraps(func)\n",
        "        def inner(*args, **kwargs):\n",
        "            start_time = time.time()\n",
        "            func(*args, **kwargs)\n",
        "            end_time = time.time()\n",
        "            time_pocess = end_time - start_time\n",
        "            print(time_pocess)\n",
        "            if time_pocess > N:\n",
        "                print('Превышен лимит времени!')\n",
        "        return inner\n",
        "    return wrapper\n",
        "\n",
        "@timit(0.1)\n",
        "def create_email_file(new_file: str, raw_file: str):\n",
        "    gen_email = validate_email(raw_file)\n",
        "    with open(new_file, 'w') as f:\n",
        "        for email in gen_email:\n",
        "            f.write(email)\n",
        "            f.write('\\n')"
      ]
    },
    {
      "cell_type": "code",
      "execution_count": 12,
      "metadata": {},
      "outputs": [
        {
          "name": "stdout",
          "output_type": "stream",
          "text": [
            "0.057265520095825195\n"
          ]
        }
      ],
      "source": [
        "create_email_file('output.txt', 'test_email.txt')"
      ]
    },
    {
      "cell_type": "markdown",
      "metadata": {},
      "source": [
        "8. Напишите программу, которая создает два потока и выводит сообщения из них параллельно."
      ]
    },
    {
      "cell_type": "code",
      "execution_count": 14,
      "metadata": {},
      "outputs": [
        {
          "name": "stdout",
          "output_type": "stream",
          "text": [
            "Поток 1: сообщение 0\n",
            "Поток 2: сообщение 0\n",
            "Поток 1: сообщение 1\n",
            "Поток 2: сообщение 1\n",
            "Поток 1: сообщение 2\n",
            "Поток 2: сообщение 2\n",
            "Поток 1: сообщение 3\n",
            "Поток 2: сообщение 3\n",
            "Поток 1: сообщение 4\n",
            "Поток 2: сообщение 4\n",
            "Поток 1: сообщение 5\n",
            "Поток 2: сообщение 5\n",
            "Поток 1: сообщение 6\n",
            "Поток 2: сообщение 6\n",
            "Поток 1: сообщение 7\n",
            "Поток 2: сообщение 7\n",
            "Поток 1: сообщение 8\n",
            "Поток 2: сообщение 8\n",
            "Поток 1: сообщение 9Поток 2: сообщение 9\n",
            "\n"
          ]
        }
      ],
      "source": [
        "from threading import Thread\n",
        "import time\n",
        "\n",
        "def process(number_thtead: int):\n",
        "    for i in range(10):\n",
        "        message = f'Поток {number_thtead}: сообщение {i}'\n",
        "        print(message)\n",
        "        time.sleep(1)\n",
        "\n",
        "t1 = Thread(target=process, args=(1, ))\n",
        "t2 = Thread(target=process, args=(2, ))\n",
        "\n",
        "t1.start()\n",
        "t2.start()\n",
        "\n",
        "t1.join()\n",
        "t2.join()"
      ]
    },
    {
      "cell_type": "code",
      "execution_count": null,
      "metadata": {},
      "outputs": [],
      "source": []
    }
  ],
  "metadata": {
    "colab": {
      "provenance": []
    },
    "kernelspec": {
      "display_name": "Python 3",
      "name": "python3"
    },
    "language_info": {
      "codemirror_mode": {
        "name": "ipython",
        "version": 3
      },
      "file_extension": ".py",
      "mimetype": "text/x-python",
      "name": "python",
      "nbconvert_exporter": "python",
      "pygments_lexer": "ipython3",
      "version": "3.10.12"
    }
  },
  "nbformat": 4,
  "nbformat_minor": 0
}
